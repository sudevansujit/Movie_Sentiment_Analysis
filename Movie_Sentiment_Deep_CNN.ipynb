{
  "nbformat": 4,
  "nbformat_minor": 0,
  "metadata": {
    "colab": {
      "name": "Movie_Sentiment_Deep_CNN.ipynb",
      "provenance": [],
      "collapsed_sections": [],
      "authorship_tag": "ABX9TyPAccaSn2BIygmbygT/dqXm",
      "include_colab_link": true
    },
    "kernelspec": {
      "name": "python3",
      "display_name": "Python 3"
    },
    "accelerator": "GPU"
  },
  "cells": [
    {
      "cell_type": "markdown",
      "metadata": {
        "id": "view-in-github",
        "colab_type": "text"
      },
      "source": [
        "<a href=\"https://colab.research.google.com/github/sudevansujit/Movie_Sentiment_Analysis/blob/master/Movie_Sentiment_Deep_CNN.ipynb\" target=\"_parent\"><img src=\"https://colab.research.google.com/assets/colab-badge.svg\" alt=\"Open In Colab\"/></a>"
      ]
    },
    {
      "cell_type": "code",
      "metadata": {
        "id": "VPS8Avmg92Uq",
        "colab_type": "code",
        "colab": {}
      },
      "source": [
        "# Code to read csv file into colaboratory:\n",
        "!pip install -U -q PyDrive\n",
        "from pydrive.auth import GoogleAuth\n",
        "from pydrive.drive import GoogleDrive\n",
        "from google.colab import auth\n",
        "from oauth2client.client import GoogleCredentials"
      ],
      "execution_count": 3,
      "outputs": []
    },
    {
      "cell_type": "code",
      "metadata": {
        "id": "DzD6aMOb94UQ",
        "colab_type": "code",
        "colab": {}
      },
      "source": [
        "auth.authenticate_user()\n",
        "gauth = GoogleAuth()\n",
        "gauth.credentials = GoogleCredentials.get_application_default()\n",
        "drive = GoogleDrive(gauth)"
      ],
      "execution_count": 4,
      "outputs": []
    },
    {
      "cell_type": "code",
      "metadata": {
        "id": "geCFm-xD96Vb",
        "colab_type": "code",
        "colab": {}
      },
      "source": [
        "downloaded = drive.CreateFile({'id':'1asZyLVRZ3QjWG4Pek-dAYYl9Kq9XZn3n'}) # replace the id with id of file you want to access\n",
        "downloaded.GetContentFile('Cleaned_Movie_Review.csv')"
      ],
      "execution_count": 5,
      "outputs": []
    },
    {
      "cell_type": "code",
      "metadata": {
        "id": "0ZJJh943-EL5",
        "colab_type": "code",
        "colab": {
          "base_uri": "https://localhost:8080/",
          "height": 205
        },
        "outputId": "8b371619-ebfa-4be5-944b-13207b4fde9b"
      },
      "source": [
        "import pandas as pd\n",
        "import numpy as np\n",
        "\n",
        "data = pd.read_csv('Cleaned_Movie_Review.csv', index_col = 'Unnamed: 0')\n",
        "data.head()"
      ],
      "execution_count": 6,
      "outputs": [
        {
          "output_type": "execute_result",
          "data": {
            "text/html": [
              "<div>\n",
              "<style scoped>\n",
              "    .dataframe tbody tr th:only-of-type {\n",
              "        vertical-align: middle;\n",
              "    }\n",
              "\n",
              "    .dataframe tbody tr th {\n",
              "        vertical-align: top;\n",
              "    }\n",
              "\n",
              "    .dataframe thead th {\n",
              "        text-align: right;\n",
              "    }\n",
              "</style>\n",
              "<table border=\"1\" class=\"dataframe\">\n",
              "  <thead>\n",
              "    <tr style=\"text-align: right;\">\n",
              "      <th></th>\n",
              "      <th>review</th>\n",
              "      <th>sentiment</th>\n",
              "      <th>new_review</th>\n",
              "    </tr>\n",
              "  </thead>\n",
              "  <tbody>\n",
              "    <tr>\n",
              "      <th>0</th>\n",
              "      <td>one of the other reviewers has mentioned that ...</td>\n",
              "      <td>1</td>\n",
              "      <td>one reviewers mentioned watching oz episode ho...</td>\n",
              "    </tr>\n",
              "    <tr>\n",
              "      <th>1</th>\n",
              "      <td>a wonderful little production the filming tech...</td>\n",
              "      <td>1</td>\n",
              "      <td>wonderful little production filming technique ...</td>\n",
              "    </tr>\n",
              "    <tr>\n",
              "      <th>2</th>\n",
              "      <td>i thought this was a wonderful way to spend ti...</td>\n",
              "      <td>1</td>\n",
              "      <td>thought wonderful way spend time hot summer we...</td>\n",
              "    </tr>\n",
              "    <tr>\n",
              "      <th>3</th>\n",
              "      <td>basically there s a family where a little boy ...</td>\n",
              "      <td>0</td>\n",
              "      <td>basically family little boy jake thinks zombie...</td>\n",
              "    </tr>\n",
              "    <tr>\n",
              "      <th>4</th>\n",
              "      <td>petter mattei s love in the time of money is a...</td>\n",
              "      <td>1</td>\n",
              "      <td>petter mattei s love time money visually stunn...</td>\n",
              "    </tr>\n",
              "  </tbody>\n",
              "</table>\n",
              "</div>"
            ],
            "text/plain": [
              "                                              review  ...                                         new_review\n",
              "0  one of the other reviewers has mentioned that ...  ...  one reviewers mentioned watching oz episode ho...\n",
              "1  a wonderful little production the filming tech...  ...  wonderful little production filming technique ...\n",
              "2  i thought this was a wonderful way to spend ti...  ...  thought wonderful way spend time hot summer we...\n",
              "3  basically there s a family where a little boy ...  ...  basically family little boy jake thinks zombie...\n",
              "4  petter mattei s love in the time of money is a...  ...  petter mattei s love time money visually stunn...\n",
              "\n",
              "[5 rows x 3 columns]"
            ]
          },
          "metadata": {
            "tags": []
          },
          "execution_count": 6
        }
      ]
    },
    {
      "cell_type": "code",
      "metadata": {
        "id": "AEvl29vU-QWH",
        "colab_type": "code",
        "colab": {
          "base_uri": "https://localhost:8080/",
          "height": 34
        },
        "outputId": "2e7a75f9-49ab-4f1c-d0bc-476739cb5cab"
      },
      "source": [
        "# build train and test datasets\n",
        "X_review = data['new_review'].values\n",
        "y_sentiment = data['sentiment'].values\n",
        "\n",
        "X_train = X_review[:35000]\n",
        "y_train = y_sentiment[:35000]\n",
        "\n",
        "X_test = X_review[35000:]\n",
        "y_test = y_sentiment[35000:]\n",
        "\n",
        "X_train.shape, y_train.shape"
      ],
      "execution_count": 7,
      "outputs": [
        {
          "output_type": "execute_result",
          "data": {
            "text/plain": [
              "((35000,), (35000,))"
            ]
          },
          "metadata": {
            "tags": []
          },
          "execution_count": 7
        }
      ]
    },
    {
      "cell_type": "code",
      "metadata": {
        "id": "1IrO96OE-bRL",
        "colab_type": "code",
        "colab": {
          "base_uri": "https://localhost:8080/",
          "height": 68
        },
        "outputId": "4309de48-c703-4dcf-e9fe-9734065383c3"
      },
      "source": [
        "from tensorflow.keras.models import Sequential\n",
        "from tensorflow.keras.layers import Dense\n",
        "from tensorflow.keras.layers import Flatten\n",
        "from tensorflow.keras.layers import Conv1D\n",
        "from tensorflow.keras.layers import MaxPooling1D\n",
        "from tensorflow.keras.layers import Embedding\n",
        "from tensorflow.keras.preprocessing.text import Tokenizer\n",
        "from tensorflow.keras.preprocessing import sequence\n",
        "import tensorflow as tf\n",
        "import nltk\n",
        "nltk.download('punkt')"
      ],
      "execution_count": 8,
      "outputs": [
        {
          "output_type": "stream",
          "text": [
            "[nltk_data] Downloading package punkt to /root/nltk_data...\n",
            "[nltk_data]   Unzipping tokenizers/punkt.zip.\n"
          ],
          "name": "stdout"
        },
        {
          "output_type": "execute_result",
          "data": {
            "text/plain": [
              "True"
            ]
          },
          "metadata": {
            "tags": []
          },
          "execution_count": 8
        }
      ]
    },
    {
      "cell_type": "markdown",
      "metadata": {
        "id": "7LIfSZlyCRPT",
        "colab_type": "text"
      },
      "source": [
        "\"\"\"To prepare text data for our deep learning model, we transform each review \n",
        "into a sequence. Every word in the review is mapped to an integer index and thus \n",
        "the sentence turns into a sequence of numbers.\n",
        "\n",
        "To perform this transformation, keras provides the Tokenizer\"\"\""
      ]
    },
    {
      "cell_type": "code",
      "metadata": {
        "id": "S-_kU3bGCVSy",
        "colab_type": "code",
        "colab": {}
      },
      "source": [
        "t = Tokenizer(oov_token='<UNK>')\n",
        "# fit the tokenizer on the documents\n",
        "t.fit_on_texts(X_train)\n",
        "t.word_index['<PAD>'] = 0"
      ],
      "execution_count": 9,
      "outputs": []
    },
    {
      "cell_type": "code",
      "metadata": {
        "id": "Spt49iGRCb5L",
        "colab_type": "code",
        "colab": {
          "base_uri": "https://localhost:8080/",
          "height": 34
        },
        "outputId": "f150d710-62c9-4e9d-a8b7-e581c0a6325c"
      },
      "source": [
        "max([(k, v) for k, v in t.word_index.items()], key = lambda x:x[1])\n",
        " "
      ],
      "execution_count": 10,
      "outputs": [
        {
          "output_type": "execute_result",
          "data": {
            "text/plain": [
              "('whoah', 87542)"
            ]
          },
          "metadata": {
            "tags": []
          },
          "execution_count": 10
        }
      ]
    },
    {
      "cell_type": "code",
      "metadata": {
        "id": "FiX5pQkJCl2s",
        "colab_type": "code",
        "colab": {
          "base_uri": "https://localhost:8080/",
          "height": 34
        },
        "outputId": "f7a66318-73dc-450f-e726-37095151a740"
      },
      "source": [
        "   \n",
        "min([(k, v) for k, v in t.word_index.items()], key = lambda x:x[1])\n",
        " "
      ],
      "execution_count": 11,
      "outputs": [
        {
          "output_type": "execute_result",
          "data": {
            "text/plain": [
              "('<PAD>', 0)"
            ]
          },
          "metadata": {
            "tags": []
          },
          "execution_count": 11
        }
      ]
    },
    {
      "cell_type": "code",
      "metadata": {
        "id": "qWekwCVNCnCo",
        "colab_type": "code",
        "colab": {
          "base_uri": "https://localhost:8080/",
          "height": 34
        },
        "outputId": "7f3ead74-64a0-4b25-c7b3-173cb8147eac"
      },
      "source": [
        "t.word_index['<UNK>']"
      ],
      "execution_count": 12,
      "outputs": [
        {
          "output_type": "execute_result",
          "data": {
            "text/plain": [
              "1"
            ]
          },
          "metadata": {
            "tags": []
          },
          "execution_count": 12
        }
      ]
    },
    {
      "cell_type": "code",
      "metadata": {
        "id": "ze1BbvaFCcAA",
        "colab_type": "code",
        "colab": {}
      },
      "source": [
        "train_sequences = t.texts_to_sequences(X_train)\n",
        "test_sequences = t.texts_to_sequences(X_test)"
      ],
      "execution_count": 13,
      "outputs": []
    },
    {
      "cell_type": "code",
      "metadata": {
        "id": "jofc1QHeCcEa",
        "colab_type": "code",
        "colab": {
          "base_uri": "https://localhost:8080/",
          "height": 51
        },
        "outputId": "33a674a0-c38f-44eb-ed46-4f02703d012b"
      },
      "source": [
        "print(\"Vocabulary size={}\".format(len(t.word_index)))\n",
        "print(\"Number of Documents={}\".format(t.document_count))"
      ],
      "execution_count": 14,
      "outputs": [
        {
          "output_type": "stream",
          "text": [
            "Vocabulary size=87543\n",
            "Number of Documents=35000\n"
          ],
          "name": "stdout"
        }
      ]
    },
    {
      "cell_type": "code",
      "metadata": {
        "id": "4Siil6CpCcIq",
        "colab_type": "code",
        "colab": {
          "base_uri": "https://localhost:8080/",
          "height": 374
        },
        "outputId": "5b50234e-dc97-4a50-e605-9c5def7de21a"
      },
      "source": [
        "import matplotlib.pyplot as plt\n",
        "%matplotlib inline\n",
        "\n",
        "train_lens = [len(s) for s in train_sequences]\n",
        "test_lens = [len(s) for s in test_sequences]\n",
        "\n",
        "fig, ax = plt.subplots(1,2, figsize=(12, 6))\n",
        "h1 = ax[0].hist(train_lens)\n",
        "h2 = ax[1].hist(test_lens)"
      ],
      "execution_count": 15,
      "outputs": [
        {
          "output_type": "display_data",
          "data": {
            "image/png": "[encoded data removed]",
            "text/plain": [
              "<Figure size 864x432 with 2 Axes>"
            ]
          },
          "metadata": {
            "tags": [],
            "needs_background": "light"
          }
        }
      ]
    },
    {
      "cell_type": "markdown",
      "metadata": {
        "id": "qZdEl7QfDGxx",
        "colab_type": "text"
      },
      "source": [
        "# Sequence **Normalization**"
      ]
    },
    {
      "cell_type": "markdown",
      "metadata": {
        "id": "q1JybFyKC9M6",
        "colab_type": "text"
      },
      "source": [
        "\n",
        "\"\"\"Not all reviews are of same length. To handle this difference in length of \n",
        "reviews, we define a maximum length. For reviews which are smaller than this \n",
        "length, we pad them with zeros which longer ones are truncated\"\"\""
      ]
    },
    {
      "cell_type": "code",
      "metadata": {
        "id": "P3FSgyh3C38j",
        "colab_type": "code",
        "colab": {
          "base_uri": "https://localhost:8080/",
          "height": 34
        },
        "outputId": "1885526a-da81-4603-8574-553edb3d16c2"
      },
      "source": [
        "MAX_SEQUENCE_LENGTH = 600\n",
        "\n",
        "# pad dataset to a maximum review length in words\n",
        "X_train_1 = sequence.pad_sequences(train_sequences, maxlen=MAX_SEQUENCE_LENGTH)\n",
        "X_test_1 = sequence.pad_sequences(test_sequences, maxlen=MAX_SEQUENCE_LENGTH)\n",
        "X_train_1.shape, X_test_1.shape\n",
        "\n",
        "VOCAB_SIZE = len(t.word_index)\n",
        "VOCAB_SIZE"
      ],
      "execution_count": 16,
      "outputs": [
        {
          "output_type": "execute_result",
          "data": {
            "text/plain": [
              "87543"
            ]
          },
          "metadata": {
            "tags": []
          },
          "execution_count": 16
        }
      ]
    },
    {
      "cell_type": "markdown",
      "metadata": {
        "id": "N1WvMPljDT6u",
        "colab_type": "text"
      },
      "source": [
        "#Prepare the Model\n",
        "\"\"\"Since textual data is a sequence of words, we utilize 1D convolutions to scan\n",
        "through the sentences. The model first transforms each word into lower dimensional\n",
        " embedding/vector space followed by 1d convolutions and then passing the data \n",
        " through dense layers before the final layer for classification\"\"\""
      ]
    },
    {
      "cell_type": "markdown",
      "metadata": {
        "id": "YTYoZjUFDUTR",
        "colab_type": "text"
      },
      "source": [
        "# Embeddings\n",
        "\n",
        "\"\"\"The Embedding layer helps us generate the word embeddings from scratch. This \n",
        "layer is also initialized with some weights and is updated based on our optimizer,\n",
        " similar to weights on the neuron units in other layers when the network tries\n",
        " to minimize the loss in each epoch. Thus, the embedding layer tries to optimize \n",
        " its weights such that we get the best word embeddings that will generate minimum \n",
        " error in the model and capture semantic similarity and relationships among words.\n",
        " How do we get the embeddings? Let’s say we have a review with three terms \n",
        " ['movie', 'was', 'good'] and a vocab_map consisting of word to index mappings \n",
        " for 87543 words.\"\"\""
      ]
    },
    {
      "cell_type": "code",
      "metadata": {
        "id": "V3VCRNrPC4AB",
        "colab_type": "code",
        "colab": {
          "base_uri": "https://localhost:8080/",
          "height": 500
        },
        "outputId": "cafcab9e-cb1b-4cde-8d54-2422dafa5eda"
      },
      "source": [
        "EMBED_SIZE = 300\n",
        "EPOCHS=10\n",
        "BATCH_SIZE=128\n",
        "\n",
        "# create the model\n",
        "model = Sequential()\n",
        "model.add(Embedding(VOCAB_SIZE, EMBED_SIZE, input_length=MAX_SEQUENCE_LENGTH))\n",
        "\n",
        "model.add(Conv1D(filters=128, kernel_size=4, padding='same', activation='relu'))\n",
        "model.add(MaxPooling1D(pool_size=2))\n",
        "\n",
        "model.add(Conv1D(filters=64, kernel_size=4, padding='same', activation='relu'))\n",
        "model.add(MaxPooling1D(pool_size=2))\n",
        "\n",
        "model.add(Conv1D(filters=32, kernel_size=4, padding='same', activation='relu'))\n",
        "model.add(MaxPooling1D(pool_size=2))\n",
        "\n",
        "model.add(Flatten())\n",
        "\n",
        "model.add(Dense(256, activation='relu'))\n",
        "model.add(Dense(1, activation='sigmoid'))\n",
        "\n",
        "model.compile(loss='binary_crossentropy', optimizer='adam', metrics=['accuracy'])\n",
        "\n",
        "model.summary()"
      ],
      "execution_count": 17,
      "outputs": [
        {
          "output_type": "stream",
          "text": [
            "Model: \"sequential\"\n",
            "_________________________________________________________________\n",
            "Layer (type)                 Output Shape              Param #   \n",
            "=================================================================\n",
            "embedding (Embedding)        (None, 600, 300)          26262900  \n",
            "_________________________________________________________________\n",
            "conv1d (Conv1D)              (None, 600, 128)          153728    \n",
            "_________________________________________________________________\n",
            "max_pooling1d (MaxPooling1D) (None, 300, 128)          0         \n",
            "_________________________________________________________________\n",
            "conv1d_1 (Conv1D)            (None, 300, 64)           32832     \n",
            "_________________________________________________________________\n",
            "max_pooling1d_1 (MaxPooling1 (None, 150, 64)           0         \n",
            "_________________________________________________________________\n",
            "conv1d_2 (Conv1D)            (None, 150, 32)           8224      \n",
            "_________________________________________________________________\n",
            "max_pooling1d_2 (MaxPooling1 (None, 75, 32)            0         \n",
            "_________________________________________________________________\n",
            "flatten (Flatten)            (None, 2400)              0         \n",
            "_________________________________________________________________\n",
            "dense (Dense)                (None, 256)               614656    \n",
            "_________________________________________________________________\n",
            "dense_1 (Dense)              (None, 1)                 257       \n",
            "=================================================================\n",
            "Total params: 27,072,597\n",
            "Trainable params: 27,072,597\n",
            "Non-trainable params: 0\n",
            "_________________________________________________________________\n"
          ],
          "name": "stdout"
        }
      ]
    },
    {
      "cell_type": "code",
      "metadata": {
        "id": "617bcfR-C4DM",
        "colab_type": "code",
        "colab": {}
      },
      "source": [
        "#Model Training\n",
        "# callbacks\n",
        "es = tf.keras.callbacks.EarlyStopping(monitor='val_loss', \n",
        "                                      patience=2,\n",
        "                                      restore_best_weights=True,\n",
        "                                      verbose=1)"
      ],
      "execution_count": 18,
      "outputs": []
    },
    {
      "cell_type": "code",
      "metadata": {
        "id": "MOr9sEC2C4Gb",
        "colab_type": "code",
        "colab": {
          "base_uri": "https://localhost:8080/",
          "height": 155
        },
        "outputId": "1fa05b1f-840c-47c6-e1fd-e946019b03c4"
      },
      "source": [
        "# Fit the model\n",
        "history = model.fit(X_train_1, \n",
        "                    y_train, \n",
        "                    validation_split=0.1,\n",
        "                    epochs=10 ,\n",
        "                    batch_size=BATCH_SIZE,\n",
        "                    callbacks=[es], \n",
        "                    verbose=1)"
      ],
      "execution_count": 19,
      "outputs": [
        {
          "output_type": "stream",
          "text": [
            "Epoch 1/10\n",
            "247/247 [==============================] - 85s 343ms/step - loss: 0.4282 - accuracy: 0.7600 - val_loss: 0.2630 - val_accuracy: 0.8917\n",
            "Epoch 2/10\n",
            "247/247 [==============================] - 85s 343ms/step - loss: 0.1440 - accuracy: 0.9483 - val_loss: 0.2698 - val_accuracy: 0.8934\n",
            "Epoch 3/10\n",
            "247/247 [==============================] - ETA: 0s - loss: 0.0404 - accuracy: 0.9872Restoring model weights from the end of the best epoch.\n",
            "247/247 [==============================] - 85s 344ms/step - loss: 0.0404 - accuracy: 0.9872 - val_loss: 0.5237 - val_accuracy: 0.8643\n",
            "Epoch 00003: early stopping\n"
          ],
          "name": "stdout"
        }
      ]
    },
    {
      "cell_type": "code",
      "metadata": {
        "id": "pq7n7gwlC4JU",
        "colab_type": "code",
        "colab": {
          "base_uri": "https://localhost:8080/",
          "height": 51
        },
        "outputId": "fa708a72-1b2d-497a-825d-003349681a1b"
      },
      "source": [
        "# Final evaluation of the model\n",
        "scores = model.evaluate(X_test_1, y_test, verbose=1)\n",
        "print(\"Accuracy: %.2f%%\" % (scores[1]*100))"
      ],
      "execution_count": 20,
      "outputs": [
        {
          "output_type": "stream",
          "text": [
            "469/469 [==============================] - 5s 10ms/step - loss: 0.2471 - accuracy: 0.8992\n",
            "Accuracy: 89.92%\n"
          ],
          "name": "stdout"
        }
      ]
    },
    {
      "cell_type": "code",
      "metadata": {
        "id": "bVWjBNDwFpBT",
        "colab_type": "code",
        "colab": {
          "base_uri": "https://localhost:8080/",
          "height": 34
        },
        "outputId": "f3abc8f5-dd8c-41ad-c751-ed8c4198efb1"
      },
      "source": [
        "predictions = model.predict_classes(X_test_1).ravel()\n",
        "predictions[:10]"
      ],
      "execution_count": 23,
      "outputs": [
        {
          "output_type": "execute_result",
          "data": {
            "text/plain": [
              "array([0, 1, 0, 1, 1, 0, 1, 0, 1, 1], dtype=int32)"
            ]
          },
          "metadata": {
            "tags": []
          },
          "execution_count": 23
        }
      ]
    },
    {
      "cell_type": "code",
      "metadata": {
        "id": "eOcfL_wzFpIs",
        "colab_type": "code",
        "colab": {
          "base_uri": "https://localhost:8080/",
          "height": 266
        },
        "outputId": "8608305b-affa-48b3-fabf-f997f94368ad"
      },
      "source": [
        "from sklearn.metrics import confusion_matrix, classification_report\n",
        "\n",
        "labels = ['negative', 'positive']\n",
        "print(classification_report(y_test, predictions))\n",
        "pd.DataFrame(confusion_matrix(y_test, predictions), index=labels, columns=labels)"
      ],
      "execution_count": 24,
      "outputs": [
        {
          "output_type": "stream",
          "text": [
            "              precision    recall  f1-score   support\n",
            "\n",
            "           0       0.91      0.88      0.90      7490\n",
            "           1       0.89      0.91      0.90      7510\n",
            "\n",
            "    accuracy                           0.90     15000\n",
            "   macro avg       0.90      0.90      0.90     15000\n",
            "weighted avg       0.90      0.90      0.90     15000\n",
            "\n"
          ],
          "name": "stdout"
        },
        {
          "output_type": "execute_result",
          "data": {
            "text/html": [
              "<div>\n",
              "<style scoped>\n",
              "    .dataframe tbody tr th:only-of-type {\n",
              "        vertical-align: middle;\n",
              "    }\n",
              "\n",
              "    .dataframe tbody tr th {\n",
              "        vertical-align: top;\n",
              "    }\n",
              "\n",
              "    .dataframe thead th {\n",
              "        text-align: right;\n",
              "    }\n",
              "</style>\n",
              "<table border=\"1\" class=\"dataframe\">\n",
              "  <thead>\n",
              "    <tr style=\"text-align: right;\">\n",
              "      <th></th>\n",
              "      <th>negative</th>\n",
              "      <th>positive</th>\n",
              "    </tr>\n",
              "  </thead>\n",
              "  <tbody>\n",
              "    <tr>\n",
              "      <th>negative</th>\n",
              "      <td>6626</td>\n",
              "      <td>864</td>\n",
              "    </tr>\n",
              "    <tr>\n",
              "      <th>positive</th>\n",
              "      <td>648</td>\n",
              "      <td>6862</td>\n",
              "    </tr>\n",
              "  </tbody>\n",
              "</table>\n",
              "</div>"
            ],
            "text/plain": [
              "          negative  positive\n",
              "negative      6626       864\n",
              "positive       648      6862"
            ]
          },
          "metadata": {
            "tags": []
          },
          "execution_count": 24
        }
      ]
    },
    {
      "cell_type": "code",
      "metadata": {
        "id": "54AAqTmYFpLt",
        "colab_type": "code",
        "colab": {}
      },
      "source": [
        "# Thanks"
      ],
      "execution_count": 25,
      "outputs": []
    },
    {
      "cell_type": "code",
      "metadata": {
        "id": "TCFO7LBTFpPR",
        "colab_type": "code",
        "colab": {}
      },
      "source": [
        ""
      ],
      "execution_count": null,
      "outputs": []
    },
    {
      "cell_type": "code",
      "metadata": {
        "id": "zFWMqxFH-vYv",
        "colab_type": "code",
        "colab": {}
      },
      "source": [
        "# tokenize train reviews \n",
        "tokenized_train = [nltk.word_tokenize(text) for text in X_train]\n",
        "\n",
        "# tokenize test reviews & encode test labels\n",
        "tokenized_test = [nltk.word_tokenize(text) for text in X_test]"
      ],
      "execution_count": null,
      "outputs": []
    },
    {
      "cell_type": "code",
      "metadata": {
        "id": "8-ox6sB_-ylV",
        "colab_type": "code",
        "colab": {}
      },
      "source": [
        "#Feature Engineering with word embeddings¶\n",
        "w2v_num_features = 300\n",
        "w2v_model = gensim.models.Word2Vec(tokenized_train, \n",
        "                                   size=w2v_num_features, \n",
        "                                   window=150,\n",
        "                                   min_count=10, \n",
        "                                   workers=4, \n",
        "                                   iter=5)   "
      ],
      "execution_count": null,
      "outputs": []
    },
    {
      "cell_type": "code",
      "metadata": {
        "id": "ujQvUJqe_CU-",
        "colab_type": "code",
        "colab": {}
      },
      "source": [
        "def averaged_word2vec_vectorizer(corpus, model, num_features):\n",
        "    vocabulary = set(model.wv.index2word)\n",
        "    \n",
        "    def average_word_vectors(words, model, vocabulary, num_features):\n",
        "        feature_vector = np.zeros((num_features,), dtype=\"float64\")\n",
        "        nwords = 0.\n",
        "        \n",
        "        for word in words:\n",
        "            if word in vocabulary: \n",
        "                nwords = nwords + 1.\n",
        "                feature_vector = np.add(feature_vector, model.wv[word])\n",
        "        if nwords:\n",
        "            feature_vector = np.divide(feature_vector, nwords)\n",
        "\n",
        "        return feature_vector\n",
        "\n",
        "    features = [average_word_vectors(tokenized_sentence, model, vocabulary, num_features)\n",
        "                    for tokenized_sentence in corpus]\n",
        "    return np.array(features)"
      ],
      "execution_count": null,
      "outputs": []
    },
    {
      "cell_type": "code",
      "metadata": {
        "id": "Xl-xW5UnADuO",
        "colab_type": "code",
        "colab": {
          "base_uri": "https://localhost:8080/",
          "height": 34
        },
        "outputId": "dcbaca0d-4a21-45b5-ce32-2bd62abf5d04"
      },
      "source": [
        "# generate averaged word vector features from word2vec model\n",
        "avg_wv_train_features = averaged_word2vec_vectorizer(corpus=tokenized_train, \n",
        "                                                     model=w2v_model,\n",
        "                                                     num_features=w2v_num_features)\n",
        "avg_wv_test_features = averaged_word2vec_vectorizer(corpus=tokenized_test, model=w2v_model,\n",
        "                                                    num_features=w2v_num_features)\n",
        "\n",
        "print('Word2Vec model:> Train features shape:', avg_wv_train_features.shape, ' Test features shape:', avg_wv_test_features.shape)\n"
      ],
      "execution_count": null,
      "outputs": [
        {
          "output_type": "stream",
          "text": [
            "Word2Vec model:> Train features shape: (35000, 300)  Test features shape: (15000, 300)\n"
          ],
          "name": "stdout"
        }
      ]
    },
    {
      "cell_type": "code",
      "metadata": {
        "id": "nqLjacX6AIOr",
        "colab_type": "code",
        "colab": {}
      },
      "source": [
        "#Modeling with deep neural networks\n",
        "def construct_deepnn_architecture(num_input_features):\n",
        "    dnn_model = Sequential()\n",
        "    dnn_model.add(Dense(512, input_shape=(num_input_features,)))\n",
        "    dnn_model.add(Activation('relu'))\n",
        "    dnn_model.add(Dropout(0.2))\n",
        "    \n",
        "    dnn_model.add(Dense(256))\n",
        "    dnn_model.add(Activation('relu'))\n",
        "    dnn_model.add(Dropout(0.2))\n",
        "    \n",
        "    dnn_model.add(Dense(256))\n",
        "    dnn_model.add(Activation('relu'))\n",
        "    dnn_model.add(Dropout(0.2))\n",
        "    \n",
        "    dnn_model.add(Dense(1))\n",
        "    dnn_model.add(Activation('sigmoid'))\n",
        "\n",
        "    dnn_model.compile(loss='binary_crossentropy', optimizer='adam',                 \n",
        "                      metrics=['accuracy'])\n",
        "    return dnn_model\n",
        "\n"
      ],
      "execution_count": null,
      "outputs": []
    },
    {
      "cell_type": "code",
      "metadata": {
        "id": "ANIVgOhuATeQ",
        "colab_type": "code",
        "colab": {
          "base_uri": "https://localhost:8080/",
          "height": 534
        },
        "outputId": "d37c8b54-3db5-41fb-d08e-f90660790824"
      },
      "source": [
        "w2v_dnn = construct_deepnn_architecture(num_input_features=w2v_num_features)\n",
        "\n",
        "w2v_dnn.summary()"
      ],
      "execution_count": null,
      "outputs": [
        {
          "output_type": "stream",
          "text": [
            "Model: \"sequential\"\n",
            "_________________________________________________________________\n",
            "Layer (type)                 Output Shape              Param #   \n",
            "=================================================================\n",
            "dense (Dense)                (None, 512)               154112    \n",
            "_________________________________________________________________\n",
            "activation (Activation)      (None, 512)               0         \n",
            "_________________________________________________________________\n",
            "dropout (Dropout)            (None, 512)               0         \n",
            "_________________________________________________________________\n",
            "dense_1 (Dense)              (None, 256)               131328    \n",
            "_________________________________________________________________\n",
            "activation_1 (Activation)    (None, 256)               0         \n",
            "_________________________________________________________________\n",
            "dropout_1 (Dropout)          (None, 256)               0         \n",
            "_________________________________________________________________\n",
            "dense_2 (Dense)              (None, 256)               65792     \n",
            "_________________________________________________________________\n",
            "activation_2 (Activation)    (None, 256)               0         \n",
            "_________________________________________________________________\n",
            "dropout_2 (Dropout)          (None, 256)               0         \n",
            "_________________________________________________________________\n",
            "dense_3 (Dense)              (None, 1)                 257       \n",
            "_________________________________________________________________\n",
            "activation_3 (Activation)    (None, 1)                 0         \n",
            "=================================================================\n",
            "Total params: 351,489\n",
            "Trainable params: 351,489\n",
            "Non-trainable params: 0\n",
            "_________________________________________________________________\n"
          ],
          "name": "stdout"
        }
      ]
    },
    {
      "cell_type": "code",
      "metadata": {
        "id": "8wdsSC23AWs5",
        "colab_type": "code",
        "colab": {
          "base_uri": "https://localhost:8080/",
          "height": 362
        },
        "outputId": "cce9cf1c-8b41-447d-83ed-7ccfd4cdb7e8"
      },
      "source": [
        "batch_size = 100\n",
        "history = w2v_dnn.fit(avg_wv_train_features, y_train, epochs=10, batch_size=batch_size, \n",
        "            shuffle=True, validation_split=0.1, verbose=1)"
      ],
      "execution_count": null,
      "outputs": [
        {
          "output_type": "stream",
          "text": [
            "Epoch 1/10\n",
            "315/315 [==============================] - 3s 10ms/step - loss: 0.3062 - accuracy: 0.8722 - val_loss: 0.2918 - val_accuracy: 0.8726\n",
            "Epoch 2/10\n",
            "315/315 [==============================] - 3s 9ms/step - loss: 0.2819 - accuracy: 0.8855 - val_loss: 0.2840 - val_accuracy: 0.8794\n",
            "Epoch 3/10\n",
            "315/315 [==============================] - 3s 9ms/step - loss: 0.2739 - accuracy: 0.8870 - val_loss: 0.2917 - val_accuracy: 0.8766\n",
            "Epoch 4/10\n",
            "315/315 [==============================] - 3s 9ms/step - loss: 0.2674 - accuracy: 0.8889 - val_loss: 0.2870 - val_accuracy: 0.8803\n",
            "Epoch 5/10\n",
            "315/315 [==============================] - 3s 9ms/step - loss: 0.2590 - accuracy: 0.8939 - val_loss: 0.2871 - val_accuracy: 0.8791\n",
            "Epoch 6/10\n",
            "315/315 [==============================] - 3s 9ms/step - loss: 0.2503 - accuracy: 0.8966 - val_loss: 0.2863 - val_accuracy: 0.8786\n",
            "Epoch 7/10\n",
            "315/315 [==============================] - 3s 9ms/step - loss: 0.2420 - accuracy: 0.9001 - val_loss: 0.2917 - val_accuracy: 0.8757\n",
            "Epoch 8/10\n",
            "315/315 [==============================] - 3s 9ms/step - loss: 0.2339 - accuracy: 0.9027 - val_loss: 0.2938 - val_accuracy: 0.8834\n",
            "Epoch 9/10\n",
            "315/315 [==============================] - 3s 9ms/step - loss: 0.2252 - accuracy: 0.9066 - val_loss: 0.2980 - val_accuracy: 0.8803\n",
            "Epoch 10/10\n",
            "315/315 [==============================] - 3s 9ms/step - loss: 0.2134 - accuracy: 0.9114 - val_loss: 0.3035 - val_accuracy: 0.8800\n"
          ],
          "name": "stdout"
        }
      ]
    },
    {
      "cell_type": "code",
      "metadata": {
        "id": "YhKHEgy6AhKy",
        "colab_type": "code",
        "colab": {
          "base_uri": "https://localhost:8080/",
          "height": 34
        },
        "outputId": "7cb0c157-8900-4e61-ce12-571fe4e220db"
      },
      "source": [
        "y_pred = w2v_dnn.predict_classes(avg_wv_test_features)\n",
        "\n",
        "from sklearn.metrics import accuracy_score, confusion_matrix, classification_report\n",
        "print(\"% Accuracy = \",accuracy_score(y_test, y_pred)*100)"
      ],
      "execution_count": null,
      "outputs": [
        {
          "output_type": "stream",
          "text": [
            "% Accuracy =  88.02666666666667\n"
          ],
          "name": "stdout"
        }
      ]
    },
    {
      "cell_type": "code",
      "metadata": {
        "id": "tP9WmcYJAwR7",
        "colab_type": "code",
        "colab": {
          "base_uri": "https://localhost:8080/",
          "height": 206
        },
        "outputId": "1c1bb9d6-608c-41fb-ba69-b926f48450e4"
      },
      "source": [
        "print(confusion_matrix(y_test, y_pred))\n",
        "\n",
        "print(classification_report(y_test, y_pred))"
      ],
      "execution_count": null,
      "outputs": [
        {
          "output_type": "stream",
          "text": [
            "[[6657  833]\n",
            " [ 963 6547]]\n",
            "              precision    recall  f1-score   support\n",
            "\n",
            "           0       0.87      0.89      0.88      7490\n",
            "           1       0.89      0.87      0.88      7510\n",
            "\n",
            "    accuracy                           0.88     15000\n",
            "   macro avg       0.88      0.88      0.88     15000\n",
            "weighted avg       0.88      0.88      0.88     15000\n",
            "\n"
          ],
          "name": "stdout"
        }
      ]
    },
    {
      "cell_type": "code",
      "metadata": {
        "id": "uamFtTSjA_ht",
        "colab_type": "code",
        "colab": {}
      },
      "source": [
        "# Thanks"
      ],
      "execution_count": null,
      "outputs": []
    },
    {
      "cell_type": "code",
      "metadata": {
        "id": "T_C0NoL8BC4p",
        "colab_type": "code",
        "colab": {}
      },
      "source": [
        ""
      ],
      "execution_count": null,
      "outputs": []
    }
  ]
}