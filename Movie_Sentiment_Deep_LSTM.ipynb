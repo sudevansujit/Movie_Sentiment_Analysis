{
  "nbformat": 4,
  "nbformat_minor": 0,
  "metadata": {
    "colab": {
      "name": "Movie_Sentiment_Deep_LSTM.ipynb",
      "provenance": [],
      "collapsed_sections": [],
      "authorship_tag": "ABX9TyNh8A5Axq9r8kQtm8lbgZGu",
      "include_colab_link": true
    },
    "kernelspec": {
      "name": "python3",
      "display_name": "Python 3"
    },
    "accelerator": "GPU"
  },
  "cells": [
    {
      "cell_type": "markdown",
      "metadata": {
        "id": "view-in-github",
        "colab_type": "text"
      },
      "source": [
        "<a href=\"https://colab.research.google.com/github/sudevansujit/Movie_Sentiment_Analysis/blob/master/Movie_Sentiment_Deep_LSTM.ipynb\" target=\"_parent\"><img src=\"https://colab.research.google.com/assets/colab-badge.svg\" alt=\"Open In Colab\"/></a>"
      ]
    },
    {
      "cell_type": "markdown",
      "metadata": {
        "id": "E6XJK4dgC6jQ",
        "colab_type": "text"
      },
      "source": [
        "# Text Classification - Deep Learning Sequential Models - LSTMs\""
      ]
    },
    {
      "cell_type": "code",
      "metadata": {
        "id": "w-nbFMtEC9q4",
        "colab_type": "code",
        "colab": {}
      },
      "source": [
        "# Code to read csv file into colaboratory:\n",
        "!pip install -U -q PyDrive\n",
        "from pydrive.auth import GoogleAuth\n",
        "from pydrive.drive import GoogleDrive\n",
        "from google.colab import auth\n",
        "from oauth2client.client import GoogleCredentials\n",
        "auth.authenticate_user()\n",
        "gauth = GoogleAuth()\n",
        "gauth.credentials = GoogleCredentials.get_application_default()\n",
        "drive = GoogleDrive(gauth)"
      ],
      "execution_count": 2,
      "outputs": []
    },
    {
      "cell_type": "code",
      "metadata": {
        "id": "geCFm-xD96Vb",
        "colab_type": "code",
        "colab": {}
      },
      "source": [
        "downloaded = drive.CreateFile({'id':'1asZyLVRZ3QjWG4Pek-dAYYl9Kq9XZn3n'}) # replace the id with id of file you want to access\n",
        "downloaded.GetContentFile('Cleaned_Movie_Review.csv')"
      ],
      "execution_count": 3,
      "outputs": []
    },
    {
      "cell_type": "code",
      "metadata": {
        "id": "F0hSz--7DJ9u",
        "colab_type": "code",
        "colab": {
          "base_uri": "https://localhost:8080/",
          "height": 201
        },
        "outputId": "87bd8017-d30f-479d-fa72-d753695173d7"
      },
      "source": [
        "import pandas as pd\n",
        "import numpy as np\n",
        "\n",
        "data = pd.read_csv('Cleaned_Movie_Review.csv', index_col = 'Unnamed: 0')\n",
        "data.head()"
      ],
      "execution_count": 4,
      "outputs": [
        {
          "output_type": "execute_result",
          "data": {
            "text/html": [
              "<div>\n",
              "<style scoped>\n",
              "    .dataframe tbody tr th:only-of-type {\n",
              "        vertical-align: middle;\n",
              "    }\n",
              "\n",
              "    .dataframe tbody tr th {\n",
              "        vertical-align: top;\n",
              "    }\n",
              "\n",
              "    .dataframe thead th {\n",
              "        text-align: right;\n",
              "    }\n",
              "</style>\n",
              "<table border=\"1\" class=\"dataframe\">\n",
              "  <thead>\n",
              "    <tr style=\"text-align: right;\">\n",
              "      <th></th>\n",
              "      <th>review</th>\n",
              "      <th>sentiment</th>\n",
              "      <th>new_review</th>\n",
              "    </tr>\n",
              "  </thead>\n",
              "  <tbody>\n",
              "    <tr>\n",
              "      <th>0</th>\n",
              "      <td>one of the other reviewers has mentioned that ...</td>\n",
              "      <td>1</td>\n",
              "      <td>one reviewers mentioned watching oz episode ho...</td>\n",
              "    </tr>\n",
              "    <tr>\n",
              "      <th>1</th>\n",
              "      <td>a wonderful little production the filming tech...</td>\n",
              "      <td>1</td>\n",
              "      <td>wonderful little production filming technique ...</td>\n",
              "    </tr>\n",
              "    <tr>\n",
              "      <th>2</th>\n",
              "      <td>i thought this was a wonderful way to spend ti...</td>\n",
              "      <td>1</td>\n",
              "      <td>thought wonderful way spend time hot summer we...</td>\n",
              "    </tr>\n",
              "    <tr>\n",
              "      <th>3</th>\n",
              "      <td>basically there s a family where a little boy ...</td>\n",
              "      <td>0</td>\n",
              "      <td>basically family little boy jake thinks zombie...</td>\n",
              "    </tr>\n",
              "    <tr>\n",
              "      <th>4</th>\n",
              "      <td>petter mattei s love in the time of money is a...</td>\n",
              "      <td>1</td>\n",
              "      <td>petter mattei s love time money visually stunn...</td>\n",
              "    </tr>\n",
              "  </tbody>\n",
              "</table>\n",
              "</div>"
            ],
            "text/plain": [
              "                                              review  ...                                         new_review\n",
              "0  one of the other reviewers has mentioned that ...  ...  one reviewers mentioned watching oz episode ho...\n",
              "1  a wonderful little production the filming tech...  ...  wonderful little production filming technique ...\n",
              "2  i thought this was a wonderful way to spend ti...  ...  thought wonderful way spend time hot summer we...\n",
              "3  basically there s a family where a little boy ...  ...  basically family little boy jake thinks zombie...\n",
              "4  petter mattei s love in the time of money is a...  ...  petter mattei s love time money visually stunn...\n",
              "\n",
              "[5 rows x 3 columns]"
            ]
          },
          "metadata": {
            "tags": []
          },
          "execution_count": 4
        }
      ]
    },
    {
      "cell_type": "code",
      "metadata": {
        "id": "N07Uy6y5DajW",
        "colab_type": "code",
        "colab": {
          "base_uri": "https://localhost:8080/",
          "height": 34
        },
        "outputId": "ceaf5419-753c-4500-d80f-4a728cf3197a"
      },
      "source": [
        "# build train and test datasets\n",
        "X_review = data['new_review'].values\n",
        "y_sentiment = data['sentiment'].values\n",
        "\n",
        "X_train = X_review[:35000]\n",
        "y_train = y_sentiment[:35000]\n",
        "\n",
        "X_test = X_review[35000:]\n",
        "y_test = y_sentiment[35000:]\n",
        "\n",
        "X_train.shape, y_train.shape"
      ],
      "execution_count": 5,
      "outputs": [
        {
          "output_type": "execute_result",
          "data": {
            "text/plain": [
              "((35000,), (35000,))"
            ]
          },
          "metadata": {
            "tags": []
          },
          "execution_count": 5
        }
      ]
    },
    {
      "cell_type": "code",
      "metadata": {
        "id": "1IrO96OE-bRL",
        "colab_type": "code",
        "colab": {
          "base_uri": "https://localhost:8080/",
          "height": 70
        },
        "outputId": "9c3d9eb2-fe8a-4a76-aabf-d9d46427ccca"
      },
      "source": [
        "from tensorflow.keras.models import Sequential\n",
        "from tensorflow.keras.layers import Dense\n",
        "from tensorflow.keras.layers import Embedding\n",
        "from tensorflow.keras.preprocessing.text import Tokenizer\n",
        "from tensorflow.keras.preprocessing import sequence\n",
        "import tensorflow as tf\n",
        "import nltk\n",
        "nltk.download('punkt')"
      ],
      "execution_count": 6,
      "outputs": [
        {
          "output_type": "stream",
          "text": [
            "[nltk_data] Downloading package punkt to /root/nltk_data...\n",
            "[nltk_data]   Unzipping tokenizers/punkt.zip.\n"
          ],
          "name": "stdout"
        },
        {
          "output_type": "execute_result",
          "data": {
            "text/plain": [
              "True"
            ]
          },
          "metadata": {
            "tags": []
          },
          "execution_count": 6
        }
      ]
    },
    {
      "cell_type": "markdown",
      "metadata": {
        "id": "tYSqE_ecEb-_",
        "colab_type": "text"
      },
      "source": [
        "\"\"\"To prepare text data for our deep learning model, we transform each review \n",
        "into a sequence. Every word in the review is mapped to an integer index and thus \n",
        "the sentence turns into a sequence of numbers.\n",
        "\n",
        "To perform this transformation, keras provides the Tokenizer\"\"\""
      ]
    },
    {
      "cell_type": "code",
      "metadata": {
        "id": "vE3F-dcxDjlV",
        "colab_type": "code",
        "colab": {}
      },
      "source": [
        "t = Tokenizer(oov_token='<UNK>')\n",
        "# fit the tokenizer on the documents\n",
        "t.fit_on_texts(X_train)\n",
        "t.word_index['<PAD>'] = 0\n"
      ],
      "execution_count": 7,
      "outputs": []
    },
    {
      "cell_type": "code",
      "metadata": {
        "id": "QCjWVH-fEf6_",
        "colab_type": "code",
        "colab": {
          "base_uri": "https://localhost:8080/",
          "height": 34
        },
        "outputId": "30a9e6d4-ab58-4aee-df20-a5f676d2c39e"
      },
      "source": [
        "max([(k, v) for k, v in t.word_index.items()], key = lambda x:x[1])\n",
        "    \n",
        "min([(k, v) for k, v in t.word_index.items()], key = lambda x:x[1])\n",
        "        \n",
        "t.word_index['<UNK>']\n"
      ],
      "execution_count": 8,
      "outputs": [
        {
          "output_type": "execute_result",
          "data": {
            "text/plain": [
              "1"
            ]
          },
          "metadata": {
            "tags": []
          },
          "execution_count": 8
        }
      ]
    },
    {
      "cell_type": "code",
      "metadata": {
        "id": "Pbp3454LEkbY",
        "colab_type": "code",
        "colab": {
          "base_uri": "https://localhost:8080/",
          "height": 52
        },
        "outputId": "adf8a9e6-5985-4179-aa3f-4492b64a3fcb"
      },
      "source": [
        "       \n",
        "train_sequences = t.texts_to_sequences(X_train)\n",
        "test_sequences = t.texts_to_sequences(X_test)\n",
        "\n",
        "print(\"Vocabulary size={}\".format(len(t.word_index)))\n",
        "print(\"Number of Documents={}\".format(t.document_count))\n"
      ],
      "execution_count": 9,
      "outputs": [
        {
          "output_type": "stream",
          "text": [
            "Vocabulary size=87543\n",
            "Number of Documents=35000\n"
          ],
          "name": "stdout"
        }
      ]
    },
    {
      "cell_type": "code",
      "metadata": {
        "id": "edtyKH6pEnLQ",
        "colab_type": "code",
        "colab": {
          "base_uri": "https://localhost:8080/",
          "height": 374
        },
        "outputId": "5f4cb892-9574-44fd-fb37-a6e085ca1aa2"
      },
      "source": [
        "import matplotlib.pyplot as plt\n",
        "#%matplotlib inline\n",
        "\n",
        "train_lens = [len(s) for s in train_sequences]\n",
        "test_lens = [len(s) for s in test_sequences]\n",
        "\n",
        "fig, ax = plt.subplots(1,2, figsize=(12, 6))\n",
        "h1 = ax[0].hist(train_lens)\n",
        "h2 = ax[1].hist(test_lens)\n"
      ],
      "execution_count": 10,
      "outputs": [
        {
          "output_type": "display_data",
          "data": {
            "image/png": "[encoded data removed]",
            "text/plain": [
              "<Figure size 864x432 with 2 Axes>"
            ]
          },
          "metadata": {
            "tags": [],
            "needs_background": "light"
          }
        }
      ]
    },
    {
      "cell_type": "markdown",
      "metadata": {
        "id": "PMOoKXwZEvMQ",
        "colab_type": "text"
      },
      "source": [
        "# Sequence Normalization\n",
        "\"\"\"Not all reviews are of same length. To handle this difference in length of \n",
        "reviews, we define a maximum length. For reviews which are smaller than this \n",
        "length, we pad them with zeros which longer ones are truncated\"\"\""
      ]
    },
    {
      "cell_type": "code",
      "metadata": {
        "id": "mozFJqCSEtns",
        "colab_type": "code",
        "colab": {
          "base_uri": "https://localhost:8080/",
          "height": 34
        },
        "outputId": "a9d2239b-fd44-4c99-e373-51118ea9937f"
      },
      "source": [
        "MAX_SEQUENCE_LENGTH = 600\n",
        "\n",
        "# pad dataset to a maximum review length in words\n",
        "X_train_1 = sequence.pad_sequences(train_sequences, maxlen=MAX_SEQUENCE_LENGTH)\n",
        "X_test_1 = sequence.pad_sequences(test_sequences, maxlen=MAX_SEQUENCE_LENGTH)\n",
        "X_train_1.shape, X_test_1.shape"
      ],
      "execution_count": 11,
      "outputs": [
        {
          "output_type": "execute_result",
          "data": {
            "text/plain": [
              "((35000, 600), (15000, 600))"
            ]
          },
          "metadata": {
            "tags": []
          },
          "execution_count": 11
        }
      ]
    },
    {
      "cell_type": "code",
      "metadata": {
        "id": "JAAl7Jp-FOxE",
        "colab_type": "code",
        "colab": {
          "base_uri": "https://localhost:8080/",
          "height": 34
        },
        "outputId": "fb3b0a47-ddd3-4223-f9b3-f5cdb46d440b"
      },
      "source": [
        "VOCAB_SIZE = len(t.word_index)\n",
        "VOCAB_SIZE"
      ],
      "execution_count": 12,
      "outputs": [
        {
          "output_type": "execute_result",
          "data": {
            "text/plain": [
              "87543"
            ]
          },
          "metadata": {
            "tags": []
          },
          "execution_count": 12
        }
      ]
    },
    {
      "cell_type": "markdown",
      "metadata": {
        "id": "crGFMo1qDTT9",
        "colab_type": "text"
      },
      "source": [
        "\"\"\"Another new and interesting approach to supervised deep learning is the use of \n",
        "recurrent neural networks (RNNs) and long short-term memory networks (LSTMs) which \n",
        "also considers the sequence of data (words, events and so on). These are more \n",
        "advanced models than your regular fully connected deep networks and usually take \n",
        "more time to train.\"\"\""
      ]
    },
    {
      "cell_type": "markdown",
      "metadata": {
        "id": "-aHgUXPoFBEV",
        "colab_type": "text"
      },
      "source": [
        "# LSTM Model\n",
        "#Build Model Architecture\n",
        "#Embeddings\n",
        "\n",
        "\"\"\"The Embedding layer helps us generate the word embeddings from scratch. This \n",
        "layer is also initialized with some weights and is updated based on our optimizer,\n",
        " similar to weights on the neuron units in other layers when the network tries \n",
        " to minimize the loss in each epoch. Thus, the embedding layer tries to optimize\n",
        " its weights such that we get the best word embeddings that will generate minimum \n",
        " error in the model and capture semantic similarity and relationships among words.\n",
        " How do we get the embeddings? Let’s say we have a review with three terms \n",
        " ['movie', 'was', 'good'] and a vocab_map consisting of word to index mappings \n",
        " for 175860 words.\"\"\""
      ]
    },
    {
      "cell_type": "markdown",
      "metadata": {
        "id": "rZfKFLWcFBLl",
        "colab_type": "text"
      },
      "source": [
        "# LSTM\n",
        " \n",
        "\"\"\"LSTMs try to overcome the shortcomings of RNN models, especially with regard \n",
        "to handling long-term dependencies and problems that occur when the weight matrix \n",
        "associated with the units (neurons) become too small (leading to vanishing gradient)\n",
        " or too large (leading to exploding gradient). These architectures are more complex\n",
        " than regular deep networks and going into detailed internals and math concepts \n",
        " are out of the current scope, but we will try to cover the essentials here without\n",
        " making it math heavy\"\"\""
      ]
    },
    {
      "cell_type": "code",
      "metadata": {
        "id": "1P_xpBcVFHAU",
        "colab_type": "code",
        "colab": {
          "base_uri": "https://localhost:8080/",
          "height": 326
        },
        "outputId": "a8b4b449-a2e3-4551-c88d-ef6819d108d4"
      },
      "source": [
        "EMBEDDING_DIM = 300 # dimension for dense embeddings for each token\n",
        "LSTM_DIM = 128 # total LSTM units\n",
        "\n",
        "model = tf.keras.models.Sequential()\n",
        "model.add(tf.keras.layers.Embedding(input_dim=VOCAB_SIZE, output_dim=EMBEDDING_DIM, input_length=MAX_SEQUENCE_LENGTH))\n",
        "model.add(tf.keras.layers.SpatialDropout1D(0.1))\n",
        "model.add(tf.keras.layers.LSTM(LSTM_DIM, return_sequences=False))\n",
        "model.add(tf.keras.layers.Dense(256, activation='relu'))\n",
        "model.add(tf.keras.layers.Dense(1, activation=\"sigmoid\"))\n",
        "\n",
        "model.compile(loss=\"binary_crossentropy\", optimizer=\"adam\",\n",
        "              metrics=[\"accuracy\"])\n",
        "model.summary()"
      ],
      "execution_count": 13,
      "outputs": [
        {
          "output_type": "stream",
          "text": [
            "Model: \"sequential\"\n",
            "_________________________________________________________________\n",
            "Layer (type)                 Output Shape              Param #   \n",
            "=================================================================\n",
            "embedding (Embedding)        (None, 600, 300)          26262900  \n",
            "_________________________________________________________________\n",
            "spatial_dropout1d (SpatialDr (None, 600, 300)          0         \n",
            "_________________________________________________________________\n",
            "lstm (LSTM)                  (None, 128)               219648    \n",
            "_________________________________________________________________\n",
            "dense (Dense)                (None, 256)               33024     \n",
            "_________________________________________________________________\n",
            "dense_1 (Dense)              (None, 1)                 257       \n",
            "=================================================================\n",
            "Total params: 26,515,829\n",
            "Trainable params: 26,515,829\n",
            "Non-trainable params: 0\n",
            "_________________________________________________________________\n"
          ],
          "name": "stdout"
        }
      ]
    },
    {
      "cell_type": "code",
      "metadata": {
        "id": "p0PcHulcFMRh",
        "colab_type": "code",
        "colab": {}
      },
      "source": [
        "#Train Model\n",
        "\n",
        "batch_size = 128\n",
        "EPOCHS = 10\n",
        "\n",
        "es = tf.keras.callbacks.EarlyStopping(monitor='val_loss', \n",
        "                                      patience=2,\n",
        "                                      restore_best_weights=True,\n",
        "                                      verbose=1)\n"
      ],
      "execution_count": 14,
      "outputs": []
    },
    {
      "cell_type": "code",
      "metadata": {
        "id": "Pii-JcJ3FnXl",
        "colab_type": "code",
        "colab": {
          "base_uri": "https://localhost:8080/",
          "height": 188
        },
        "outputId": "4d3d3d6b-2769-49f3-f4b3-89e259054889"
      },
      "source": [
        "history = model.fit(X_train_1, \n",
        "                    y_train, \n",
        "                    epochs=10, \n",
        "                    batch_size=batch_size, \n",
        "                    callbacks=[es],\n",
        "                    shuffle=True, \n",
        "                    validation_split=0.1, \n",
        "                    verbose=1)\n"
      ],
      "execution_count": 15,
      "outputs": [
        {
          "output_type": "stream",
          "text": [
            "Epoch 1/10\n",
            "247/247 [==============================] - 84s 341ms/step - loss: 0.3746 - accuracy: 0.8314 - val_loss: 0.3445 - val_accuracy: 0.8520\n",
            "Epoch 2/10\n",
            "247/247 [==============================] - 84s 340ms/step - loss: 0.1535 - accuracy: 0.9438 - val_loss: 0.3299 - val_accuracy: 0.8766\n",
            "Epoch 3/10\n",
            "247/247 [==============================] - 84s 338ms/step - loss: 0.0889 - accuracy: 0.9697 - val_loss: 0.3942 - val_accuracy: 0.8694\n",
            "Epoch 4/10\n",
            "247/247 [==============================] - ETA: 0s - loss: 0.0498 - accuracy: 0.9836Restoring model weights from the end of the best epoch.\n",
            "247/247 [==============================] - 84s 340ms/step - loss: 0.0498 - accuracy: 0.9836 - val_loss: 0.4812 - val_accuracy: 0.8463\n",
            "Epoch 00004: early stopping\n"
          ],
          "name": "stdout"
        }
      ]
    },
    {
      "cell_type": "code",
      "metadata": {
        "id": "KI6cw0MZFjXh",
        "colab_type": "code",
        "colab": {
          "base_uri": "https://localhost:8080/",
          "height": 51
        },
        "outputId": "3ca4d849-8010-44be-a35e-662dafec1ef6"
      },
      "source": [
        "# Evaluate Model Performance\n",
        "# Final evaluation of the model\n",
        "scores = model.evaluate(X_test_1, y_test, verbose=1)\n",
        "print(\"Accuracy: %.2f%%\" % (scores[1]*100))"
      ],
      "execution_count": 16,
      "outputs": [
        {
          "output_type": "stream",
          "text": [
            "469/469 [==============================] - 7s 15ms/step - loss: 0.3144 - accuracy: 0.8812\n",
            "Accuracy: 88.12%\n"
          ],
          "name": "stdout"
        }
      ]
    },
    {
      "cell_type": "code",
      "metadata": {
        "id": "apg9nL85HeHI",
        "colab_type": "code",
        "colab": {
          "base_uri": "https://localhost:8080/",
          "height": 105
        },
        "outputId": "a1b19385-fb69-425a-f79a-090474173237"
      },
      "source": [
        "predictions = model.predict_classes(X_test_1).ravel()\n",
        "predictions[:10]"
      ],
      "execution_count": 17,
      "outputs": [
        {
          "output_type": "stream",
          "text": [
            "WARNING:tensorflow:From <ipython-input-17-2b129dfb913c>:1: Sequential.predict_classes (from tensorflow.python.keras.engine.sequential) is deprecated and will be removed after 2021-01-01.\n",
            "Instructions for updating:\n",
            "Please use instead:* `np.argmax(model.predict(x), axis=-1)`,   if your model does multi-class classification   (e.g. if it uses a `softmax` last-layer activation).* `(model.predict(x) > 0.5).astype(\"int32\")`,   if your model does binary classification   (e.g. if it uses a `sigmoid` last-layer activation).\n"
          ],
          "name": "stdout"
        },
        {
          "output_type": "execute_result",
          "data": {
            "text/plain": [
              "array([0, 1, 0, 1, 1, 0, 1, 1, 0, 1], dtype=int32)"
            ]
          },
          "metadata": {
            "tags": []
          },
          "execution_count": 17
        }
      ]
    },
    {
      "cell_type": "code",
      "metadata": {
        "id": "FEinSfxoHi8_",
        "colab_type": "code",
        "colab": {
          "base_uri": "https://localhost:8080/",
          "height": 265
        },
        "outputId": "077f3da6-5535-41f2-a5ea-82c79104a2e8"
      },
      "source": [
        "from sklearn.metrics import confusion_matrix, classification_report\n",
        "\n",
        "labels = ['negative', 'positive']\n",
        "print(classification_report(y_test, predictions))\n",
        "pd.DataFrame(confusion_matrix(y_test, predictions), index=labels, columns=labels)\n",
        "\n"
      ],
      "execution_count": 18,
      "outputs": [
        {
          "output_type": "stream",
          "text": [
            "              precision    recall  f1-score   support\n",
            "\n",
            "           0       0.91      0.84      0.88      7490\n",
            "           1       0.86      0.92      0.89      7510\n",
            "\n",
            "    accuracy                           0.88     15000\n",
            "   macro avg       0.88      0.88      0.88     15000\n",
            "weighted avg       0.88      0.88      0.88     15000\n",
            "\n"
          ],
          "name": "stdout"
        },
        {
          "output_type": "execute_result",
          "data": {
            "text/html": [
              "<div>\n",
              "<style scoped>\n",
              "    .dataframe tbody tr th:only-of-type {\n",
              "        vertical-align: middle;\n",
              "    }\n",
              "\n",
              "    .dataframe tbody tr th {\n",
              "        vertical-align: top;\n",
              "    }\n",
              "\n",
              "    .dataframe thead th {\n",
              "        text-align: right;\n",
              "    }\n",
              "</style>\n",
              "<table border=\"1\" class=\"dataframe\">\n",
              "  <thead>\n",
              "    <tr style=\"text-align: right;\">\n",
              "      <th></th>\n",
              "      <th>negative</th>\n",
              "      <th>positive</th>\n",
              "    </tr>\n",
              "  </thead>\n",
              "  <tbody>\n",
              "    <tr>\n",
              "      <th>negative</th>\n",
              "      <td>6322</td>\n",
              "      <td>1168</td>\n",
              "    </tr>\n",
              "    <tr>\n",
              "      <th>positive</th>\n",
              "      <td>614</td>\n",
              "      <td>6896</td>\n",
              "    </tr>\n",
              "  </tbody>\n",
              "</table>\n",
              "</div>"
            ],
            "text/plain": [
              "          negative  positive\n",
              "negative      6322      1168\n",
              "positive       614      6896"
            ]
          },
          "metadata": {
            "tags": []
          },
          "execution_count": 18
        }
      ]
    },
    {
      "cell_type": "code",
      "metadata": {
        "id": "UB3h848eHmwx",
        "colab_type": "code",
        "colab": {}
      },
      "source": [
        "#Thanks"
      ],
      "execution_count": 19,
      "outputs": []
    },
    {
      "cell_type": "code",
      "metadata": {
        "id": "9Ox4HDUEHrhz",
        "colab_type": "code",
        "colab": {}
      },
      "source": [
        ""
      ],
      "execution_count": null,
      "outputs": []
    }
  ]
}